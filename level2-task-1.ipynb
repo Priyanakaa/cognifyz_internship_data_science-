{
 "cells": [
  {
   "cell_type": "markdown",
   "id": "41ce1d6c-b3aa-4691-ad86-860a1f4665cb",
   "metadata": {},
   "source": [
    "# LEVEL-2 : TASK-1"
   ]
  },
  {
   "cell_type": "markdown",
   "id": "82511638-db86-49db-b766-c6e6c806fcd7",
   "metadata": {},
   "source": [
    "# TASK : TABLE BOOKING AND ONLINE DELIVERY"
   ]
  },
  {
   "cell_type": "code",
   "execution_count": 1,
   "id": "10bc0486-f10d-434b-a6e2-66b05db6af8e",
   "metadata": {},
   "outputs": [],
   "source": [
    "import pandas as pd\n",
    "import numpy as np\n",
    "import matplotlib.pyplot as plt\n",
    "import seaborn as sns\n",
    "df=pd.read_csv(r\"cognifyzdataset.csv\")"
   ]
  },
  {
   "cell_type": "raw",
   "id": "c43ce746-87c7-4138-b138-59c8fe2dd4f5",
   "metadata": {},
   "source": [
    " Determine the percentage of restaurants that offer table booking and online delivery"
   ]
  },
  {
   "cell_type": "raw",
   "id": "8da2b1c1-9d29-49c5-aeae-b084d2889435",
   "metadata": {},
   "source": [
    "To determine percentage we can simply calculate the number of tables that have been already booked and divide it by total number of restaurants which is further mutiplied by 100 . The same can be done for orders which has online delivery. "
   ]
  },
  {
   "cell_type": "code",
   "execution_count": 2,
   "id": "45e58a94-2d7d-49ee-8ad5-9e470f838a69",
   "metadata": {},
   "outputs": [
    {
     "name": "stdout",
     "output_type": "stream",
     "text": [
      "Percentage of restaurants offering Table Booking: 12.12%\n",
      "Percentage of restaurants offering Online Delivery: 25.66%\n"
     ]
    }
   ],
   "source": [
    "total_restaurants = len(df)\n",
    "table_booking_percentage = (df['Has Table booking'] == 'Yes').sum() / total_restaurants * 100\n",
    "online_delivery_percentage = (df['Has Online delivery'] == 'Yes').sum() / total_restaurants * 100\n",
    "print(f\"Percentage of restaurants offering Table Booking: {table_booking_percentage:.2f}%\")\n",
    "print(f\"Percentage of restaurants offering Online Delivery: {online_delivery_percentage:.2f}%\")"
   ]
  },
  {
   "cell_type": "raw",
   "id": "d2277f47-a721-4df3-89cd-a22d53652f34",
   "metadata": {},
   "source": [
    "Compare the average ratings of restaurants with table booking and those without."
   ]
  },
  {
   "cell_type": "raw",
   "id": "3e9c25f9-163c-4372-960f-d05fe4393bba",
   "metadata": {},
   "source": [
    "We can find the avearge by usinf .mean() attribute . We have to do it for both of the restarants which have table booking and without."
   ]
  },
  {
   "cell_type": "code",
   "execution_count": 3,
   "id": "49e4e407-b7fd-4960-bc4a-f0c45d385060",
   "metadata": {},
   "outputs": [
    {
     "name": "stdout",
     "output_type": "stream",
     "text": [
      "Average rating with Table Booking: 3.44\n",
      "Average rating without Table Booking: 2.56\n"
     ]
    }
   ],
   "source": [
    "avg_rating_with_table = df[df['Has Table booking'] == 'Yes']['Aggregate rating'].mean()\n",
    "avg_rating_without_table = df[df['Has Table booking'] == 'No']['Aggregate rating'].mean()\n",
    "print(f\"Average rating with Table Booking: {avg_rating_with_table:.2f}\")\n",
    "print(f\"Average rating without Table Booking: {avg_rating_without_table:.2f}\")"
   ]
  },
  {
   "cell_type": "raw",
   "id": "5477f8a3-d859-4b66-864a-a96c51b675d9",
   "metadata": {},
   "source": [
    "Analyze the availability of online delivery among restaurants with different price ranges."
   ]
  },
  {
   "cell_type": "raw",
   "id": "261aa080-44dd-429d-b8f9-c9ac0712f775",
   "metadata": {},
   "source": [
    "To analyze the availability with different price ranges we have categorized the prices into three rages namely low,medium and high . "
   ]
  },
  {
   "cell_type": "code",
   "execution_count": 4,
   "id": "2249816d-c286-4782-9f6f-1a3b555d9c6b",
   "metadata": {},
   "outputs": [
    {
     "name": "stdout",
     "output_type": "stream",
     "text": [
      "Online Delivery Availability by Price Range:\n",
      "Has Online delivery         No       Yes\n",
      "Average Cost for two                    \n",
      "High                  0.719149  0.280851\n",
      "Low                   0.858523  0.141477\n",
      "Medium                0.566209  0.433791\n"
     ]
    }
   ],
   "source": [
    "price_ranges = df['Average Cost for two'].apply(lambda x: 'Low' if x < 500 else 'Medium' if 500 <= x <= 1000 else 'High')\n",
    "online_delivery_by_price_range = df.groupby(price_ranges)['Has Online delivery'].value_counts(normalize=True).unstack()\n",
    "print(\"Online Delivery Availability by Price Range:\")\n",
    "print(online_delivery_by_price_range)"
   ]
  },
  {
   "cell_type": "code",
   "execution_count": null,
   "id": "d930ad5c-43dc-45cc-9ef3-fccebb889e17",
   "metadata": {},
   "outputs": [],
   "source": []
  }
 ],
 "metadata": {
  "kernelspec": {
   "display_name": "Python 3 (ipykernel)",
   "language": "python",
   "name": "python3"
  },
  "language_info": {
   "codemirror_mode": {
    "name": "ipython",
    "version": 3
   },
   "file_extension": ".py",
   "mimetype": "text/x-python",
   "name": "python",
   "nbconvert_exporter": "python",
   "pygments_lexer": "ipython3",
   "version": "3.12.4"
  }
 },
 "nbformat": 4,
 "nbformat_minor": 5
}
